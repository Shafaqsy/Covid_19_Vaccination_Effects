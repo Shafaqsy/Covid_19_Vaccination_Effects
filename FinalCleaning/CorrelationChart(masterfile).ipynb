{
 "cells": [
  {
   "cell_type": "code",
   "execution_count": 1,
   "id": "36be5ed8",
   "metadata": {},
   "outputs": [],
   "source": [
    "import pandas as pd\n",
    "import numpy as np\n",
    "import seaborn as sns\n",
    "import matplotlib.pyplot as plt"
   ]
  },
  {
   "cell_type": "code",
   "execution_count": 2,
   "id": "dba90182",
   "metadata": {},
   "outputs": [],
   "source": [
    "# Add Matplotlib inline magic command\n",
    "%matplotlib inline\n",
    "# Dependencies and Setup\n",
    "import matplotlib.pyplot as plt\n",
    "import pandas as pd\n",
    "import numpy as np"
   ]
  },
  {
   "cell_type": "code",
   "execution_count": 3,
   "id": "08891ee4",
   "metadata": {},
   "outputs": [],
   "source": [
    "#CHANGE THE FILE NAME\n",
    "data_file = \"masterfile.csv\""
   ]
  },
  {
   "cell_type": "code",
   "execution_count": 4,
   "id": "35a6ed66",
   "metadata": {
    "scrolled": true
   },
   "outputs": [
    {
     "data": {
      "text/html": [
       "<div>\n",
       "<style scoped>\n",
       "    .dataframe tbody tr th:only-of-type {\n",
       "        vertical-align: middle;\n",
       "    }\n",
       "\n",
       "    .dataframe tbody tr th {\n",
       "        vertical-align: top;\n",
       "    }\n",
       "\n",
       "    .dataframe thead th {\n",
       "        text-align: right;\n",
       "    }\n",
       "</style>\n",
       "<table border=\"1\" class=\"dataframe\">\n",
       "  <thead>\n",
       "    <tr style=\"text-align: right;\">\n",
       "      <th></th>\n",
       "      <th>date</th>\n",
       "      <th>deaths</th>\n",
       "      <th>cases</th>\n",
       "      <th>total_doses</th>\n",
       "      <th>cumulative_total_doses</th>\n",
       "    </tr>\n",
       "  </thead>\n",
       "  <tbody>\n",
       "    <tr>\n",
       "      <th>0</th>\n",
       "      <td>7/27/2020</td>\n",
       "      <td>149</td>\n",
       "      <td>9087</td>\n",
       "      <td>5</td>\n",
       "      <td>6</td>\n",
       "    </tr>\n",
       "    <tr>\n",
       "      <th>1</th>\n",
       "      <td>7/28/2020</td>\n",
       "      <td>129</td>\n",
       "      <td>8799</td>\n",
       "      <td>6</td>\n",
       "      <td>12</td>\n",
       "    </tr>\n",
       "    <tr>\n",
       "      <th>2</th>\n",
       "      <td>7/29/2020</td>\n",
       "      <td>157</td>\n",
       "      <td>7812</td>\n",
       "      <td>9</td>\n",
       "      <td>21</td>\n",
       "    </tr>\n",
       "    <tr>\n",
       "      <th>3</th>\n",
       "      <td>7/30/2020</td>\n",
       "      <td>147</td>\n",
       "      <td>7239</td>\n",
       "      <td>13</td>\n",
       "      <td>34</td>\n",
       "    </tr>\n",
       "    <tr>\n",
       "      <th>4</th>\n",
       "      <td>7/31/2020</td>\n",
       "      <td>148</td>\n",
       "      <td>7215</td>\n",
       "      <td>6</td>\n",
       "      <td>40</td>\n",
       "    </tr>\n",
       "  </tbody>\n",
       "</table>\n",
       "</div>"
      ],
      "text/plain": [
       "        date  deaths  cases  total_doses  cumulative_total_doses\n",
       "0  7/27/2020     149   9087            5                       6\n",
       "1  7/28/2020     129   8799            6                      12\n",
       "2  7/29/2020     157   7812            9                      21\n",
       "3  7/30/2020     147   7239           13                      34\n",
       "4  7/31/2020     148   7215            6                      40"
      ]
     },
     "execution_count": 4,
     "metadata": {},
     "output_type": "execute_result"
    }
   ],
   "source": [
    "# Use Pandas to read data\n",
    "data_file = pd.read_csv(data_file)\n",
    "data_file.head()"
   ]
  },
  {
   "cell_type": "code",
   "execution_count": 7,
   "id": "e4fc1985",
   "metadata": {},
   "outputs": [
    {
     "data": {
      "text/html": [
       "<div>\n",
       "<style scoped>\n",
       "    .dataframe tbody tr th:only-of-type {\n",
       "        vertical-align: middle;\n",
       "    }\n",
       "\n",
       "    .dataframe tbody tr th {\n",
       "        vertical-align: top;\n",
       "    }\n",
       "\n",
       "    .dataframe thead th {\n",
       "        text-align: right;\n",
       "    }\n",
       "</style>\n",
       "<table border=\"1\" class=\"dataframe\">\n",
       "  <thead>\n",
       "    <tr style=\"text-align: right;\">\n",
       "      <th></th>\n",
       "      <th>deaths</th>\n",
       "      <th>cases</th>\n",
       "      <th>total_doses</th>\n",
       "      <th>cumulative_total_doses</th>\n",
       "    </tr>\n",
       "  </thead>\n",
       "  <tbody>\n",
       "    <tr>\n",
       "      <th>count</th>\n",
       "      <td>813.000000</td>\n",
       "      <td>813.000000</td>\n",
       "      <td>813.000000</td>\n",
       "      <td>8.130000e+02</td>\n",
       "    </tr>\n",
       "    <tr>\n",
       "      <th>mean</th>\n",
       "      <td>105.280443</td>\n",
       "      <td>12207.087331</td>\n",
       "      <td>100253.050431</td>\n",
       "      <td>4.290474e+07</td>\n",
       "    </tr>\n",
       "    <tr>\n",
       "      <th>std</th>\n",
       "      <td>139.124559</td>\n",
       "      <td>19657.526052</td>\n",
       "      <td>110014.552303</td>\n",
       "      <td>2.993882e+07</td>\n",
       "    </tr>\n",
       "    <tr>\n",
       "      <th>min</th>\n",
       "      <td>0.000000</td>\n",
       "      <td>585.000000</td>\n",
       "      <td>2.000000</td>\n",
       "      <td>6.000000e+00</td>\n",
       "    </tr>\n",
       "    <tr>\n",
       "      <th>25%</th>\n",
       "      <td>26.000000</td>\n",
       "      <td>3093.000000</td>\n",
       "      <td>22312.000000</td>\n",
       "      <td>6.823924e+06</td>\n",
       "    </tr>\n",
       "    <tr>\n",
       "      <th>50%</th>\n",
       "      <td>58.000000</td>\n",
       "      <td>5861.000000</td>\n",
       "      <td>64540.000000</td>\n",
       "      <td>4.761438e+07</td>\n",
       "    </tr>\n",
       "    <tr>\n",
       "      <th>75%</th>\n",
       "      <td>118.000000</td>\n",
       "      <td>12652.000000</td>\n",
       "      <td>136017.000000</td>\n",
       "      <td>7.182566e+07</td>\n",
       "    </tr>\n",
       "    <tr>\n",
       "      <th>max</th>\n",
       "      <td>716.000000</td>\n",
       "      <td>156620.000000</td>\n",
       "      <td>515122.000000</td>\n",
       "      <td>8.150573e+07</td>\n",
       "    </tr>\n",
       "  </tbody>\n",
       "</table>\n",
       "</div>"
      ],
      "text/plain": [
       "           deaths          cases    total_doses  cumulative_total_doses\n",
       "count  813.000000     813.000000     813.000000            8.130000e+02\n",
       "mean   105.280443   12207.087331  100253.050431            4.290474e+07\n",
       "std    139.124559   19657.526052  110014.552303            2.993882e+07\n",
       "min      0.000000     585.000000       2.000000            6.000000e+00\n",
       "25%     26.000000    3093.000000   22312.000000            6.823924e+06\n",
       "50%     58.000000    5861.000000   64540.000000            4.761438e+07\n",
       "75%    118.000000   12652.000000  136017.000000            7.182566e+07\n",
       "max    716.000000  156620.000000  515122.000000            8.150573e+07"
      ]
     },
     "execution_count": 7,
     "metadata": {},
     "output_type": "execute_result"
    }
   ],
   "source": [
    "data_file.describe()"
   ]
  },
  {
   "cell_type": "code",
   "execution_count": 5,
   "id": "ae1fd829",
   "metadata": {},
   "outputs": [
    {
     "data": {
      "text/html": [
       "<div>\n",
       "<style scoped>\n",
       "    .dataframe tbody tr th:only-of-type {\n",
       "        vertical-align: middle;\n",
       "    }\n",
       "\n",
       "    .dataframe tbody tr th {\n",
       "        vertical-align: top;\n",
       "    }\n",
       "\n",
       "    .dataframe thead th {\n",
       "        text-align: right;\n",
       "    }\n",
       "</style>\n",
       "<table border=\"1\" class=\"dataframe\">\n",
       "  <thead>\n",
       "    <tr style=\"text-align: right;\">\n",
       "      <th></th>\n",
       "      <th>deaths</th>\n",
       "      <th>cases</th>\n",
       "      <th>total_doses</th>\n",
       "      <th>cumulative_total_doses</th>\n",
       "    </tr>\n",
       "  </thead>\n",
       "  <tbody>\n",
       "    <tr>\n",
       "      <th>deaths</th>\n",
       "      <td>1.000000</td>\n",
       "      <td>0.386332</td>\n",
       "      <td>-0.018050</td>\n",
       "      <td>-0.444631</td>\n",
       "    </tr>\n",
       "    <tr>\n",
       "      <th>cases</th>\n",
       "      <td>0.386332</td>\n",
       "      <td>1.000000</td>\n",
       "      <td>0.020235</td>\n",
       "      <td>0.060142</td>\n",
       "    </tr>\n",
       "    <tr>\n",
       "      <th>total_doses</th>\n",
       "      <td>-0.018050</td>\n",
       "      <td>0.020235</td>\n",
       "      <td>1.000000</td>\n",
       "      <td>-0.062214</td>\n",
       "    </tr>\n",
       "    <tr>\n",
       "      <th>cumulative_total_doses</th>\n",
       "      <td>-0.444631</td>\n",
       "      <td>0.060142</td>\n",
       "      <td>-0.062214</td>\n",
       "      <td>1.000000</td>\n",
       "    </tr>\n",
       "  </tbody>\n",
       "</table>\n",
       "</div>"
      ],
      "text/plain": [
       "                          deaths     cases  total_doses  \\\n",
       "deaths                  1.000000  0.386332    -0.018050   \n",
       "cases                   0.386332  1.000000     0.020235   \n",
       "total_doses            -0.018050  0.020235     1.000000   \n",
       "cumulative_total_doses -0.444631  0.060142    -0.062214   \n",
       "\n",
       "                        cumulative_total_doses  \n",
       "deaths                               -0.444631  \n",
       "cases                                 0.060142  \n",
       "total_doses                          -0.062214  \n",
       "cumulative_total_doses                1.000000  "
      ]
     },
     "execution_count": 5,
     "metadata": {},
     "output_type": "execute_result"
    }
   ],
   "source": [
    "data_file.corr()"
   ]
  },
  {
   "cell_type": "code",
   "execution_count": 6,
   "id": "83e5a4b8",
   "metadata": {},
   "outputs": [
    {
     "data": {
      "image/png": "[encoded data removed]",
      "text/plain": [
       "<Figure size 432x288 with 2 Axes>"
      ]
     },
     "metadata": {
      "needs_background": "light"
     },
     "output_type": "display_data"
    }
   ],
   "source": [
    "sns.heatmap(data_file.corr());"
   ]
  },
  {
   "cell_type": "code",
   "execution_count": null,
   "id": "ae0cfd16",
   "metadata": {},
   "outputs": [],
   "source": []
  }
 ],
 "metadata": {
  "kernelspec": {
   "display_name": "Python 3 (ipykernel)",
   "language": "python",
   "name": "python3"
  },
  "language_info": {
   "codemirror_mode": {
    "name": "ipython",
    "version": 3
   },
   "file_extension": ".py",
   "mimetype": "text/x-python",
   "name": "python",
   "nbconvert_exporter": "python",
   "pygments_lexer": "ipython3",
   "version": "3.8.13"
  }
 },
 "nbformat": 4,
 "nbformat_minor": 5
}
