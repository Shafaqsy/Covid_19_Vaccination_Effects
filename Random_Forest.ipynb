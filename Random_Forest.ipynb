{
 "cells": [
  {
   "cell_type": "code",
   "execution_count": 99,
   "id": "0ceddf41",
   "metadata": {},
   "outputs": [],
   "source": [
    "import warnings\n",
    "warnings.filterwarnings('ignore')"
   ]
  },
  {
   "cell_type": "code",
   "execution_count": 100,
   "id": "cf7f5b59",
   "metadata": {},
   "outputs": [],
   "source": [
    "import numpy as np\n",
    "import pandas as pd\n",
    "from pathlib import Path\n",
    "from collections import Counter\n"
   ]
  },
  {
   "cell_type": "code",
   "execution_count": 112,
   "id": "c9576244",
   "metadata": {},
   "outputs": [],
   "source": [
    "from sklearn.linear_model import LogisticRegression\n",
    "from sklearn.metrics import balanced_accuracy_score\n",
    "from sklearn.metrics import confusion_matrix\n",
    "from imblearn.metrics import classification_report_imbalanced"
   ]
  },
  {
   "cell_type": "code",
   "execution_count": 102,
   "id": "c780bb62",
   "metadata": {},
   "outputs": [
    {
     "data": {
      "text/html": [
       "<div>\n",
       "<style scoped>\n",
       "    .dataframe tbody tr th:only-of-type {\n",
       "        vertical-align: middle;\n",
       "    }\n",
       "\n",
       "    .dataframe tbody tr th {\n",
       "        vertical-align: top;\n",
       "    }\n",
       "\n",
       "    .dataframe thead th {\n",
       "        text-align: right;\n",
       "    }\n",
       "</style>\n",
       "<table border=\"1\" class=\"dataframe\">\n",
       "  <thead>\n",
       "    <tr style=\"text-align: right;\">\n",
       "      <th></th>\n",
       "      <th>date</th>\n",
       "      <th>deaths</th>\n",
       "      <th>cases</th>\n",
       "      <th>total_doses</th>\n",
       "      <th>cumulative_total_doses</th>\n",
       "    </tr>\n",
       "  </thead>\n",
       "  <tbody>\n",
       "    <tr>\n",
       "      <th>0</th>\n",
       "      <td>7/27/2020</td>\n",
       "      <td>149</td>\n",
       "      <td>9087</td>\n",
       "      <td>5</td>\n",
       "      <td>6</td>\n",
       "    </tr>\n",
       "    <tr>\n",
       "      <th>1</th>\n",
       "      <td>7/28/2020</td>\n",
       "      <td>129</td>\n",
       "      <td>8799</td>\n",
       "      <td>6</td>\n",
       "      <td>12</td>\n",
       "    </tr>\n",
       "    <tr>\n",
       "      <th>2</th>\n",
       "      <td>7/29/2020</td>\n",
       "      <td>157</td>\n",
       "      <td>7812</td>\n",
       "      <td>9</td>\n",
       "      <td>21</td>\n",
       "    </tr>\n",
       "    <tr>\n",
       "      <th>3</th>\n",
       "      <td>7/30/2020</td>\n",
       "      <td>147</td>\n",
       "      <td>7239</td>\n",
       "      <td>13</td>\n",
       "      <td>34</td>\n",
       "    </tr>\n",
       "    <tr>\n",
       "      <th>4</th>\n",
       "      <td>7/31/2020</td>\n",
       "      <td>148</td>\n",
       "      <td>7215</td>\n",
       "      <td>6</td>\n",
       "      <td>40</td>\n",
       "    </tr>\n",
       "  </tbody>\n",
       "</table>\n",
       "</div>"
      ],
      "text/plain": [
       "        date  deaths  cases  total_doses  cumulative_total_doses\n",
       "0  7/27/2020     149   9087            5                       6\n",
       "1  7/28/2020     129   8799            6                      12\n",
       "2  7/29/2020     157   7812            9                      21\n",
       "3  7/30/2020     147   7239           13                      34\n",
       "4  7/31/2020     148   7215            6                      40"
      ]
     },
     "execution_count": 102,
     "metadata": {},
     "output_type": "execute_result"
    }
   ],
   "source": [
    "# Load the data\n",
    "file_path = Path('masterfile.csv')\n",
    "df = pd.read_csv(file_path)\n",
    "df.head()"
   ]
  },
  {
   "cell_type": "markdown",
   "id": "2f1c49a4",
   "metadata": {},
   "source": [
    "# Split the data into Training and Testing"
   ]
  },
  {
   "cell_type": "code",
   "execution_count": 103,
   "id": "3dc203c3",
   "metadata": {},
   "outputs": [],
   "source": [
    "# Create our features\n",
    "x = df['total_doses']\n",
    "# Create our target\n",
    "y = df[['deaths','cases']]"
   ]
  },
  {
   "cell_type": "code",
   "execution_count": 104,
   "id": "778e2ca7",
   "metadata": {},
   "outputs": [
    {
     "data": {
      "text/plain": [
       "count       813.000000\n",
       "mean      12207.087331\n",
       "std       19657.526052\n",
       "min         585.000000\n",
       "25%        3093.000000\n",
       "50%        5861.000000\n",
       "75%       12652.000000\n",
       "max      156620.000000\n",
       "Name: cases, dtype: float64"
      ]
     },
     "execution_count": 104,
     "metadata": {},
     "output_type": "execute_result"
    }
   ],
   "source": [
    "X.describe()"
   ]
  },
  {
   "cell_type": "code",
   "execution_count": 105,
   "id": "085de2ed",
   "metadata": {},
   "outputs": [
    {
     "data": {
      "text/plain": [
       "deaths  cases\n",
       "0       748      1\n",
       "86      76034    1\n",
       "85      3760     1\n",
       "        4329     1\n",
       "        4630     1\n",
       "                ..\n",
       "35      11799    1\n",
       "        18119    1\n",
       "36      1995     1\n",
       "        9013     1\n",
       "716     38589    1\n",
       "Length: 813, dtype: int64"
      ]
     },
     "execution_count": 105,
     "metadata": {},
     "output_type": "execute_result"
    }
   ],
   "source": [
    "# Check the balance of our target values\n",
    "y.value_counts()"
   ]
  },
  {
   "cell_type": "code",
   "execution_count": 106,
   "id": "a18a0b77",
   "metadata": {},
   "outputs": [
    {
     "data": {
      "text/plain": [
       "(544,)"
      ]
     },
     "execution_count": 106,
     "metadata": {},
     "output_type": "execute_result"
    }
   ],
   "source": [
    "from sklearn.model_selection import train_test_split\n",
    "\n",
    "X_train, X_test, y_train, y_test = train_test_split(X,y,test_size=0.33, random_state=42)\n",
    "X_train.shape"
   ]
  },
  {
   "cell_type": "markdown",
   "id": "8099ec0e",
   "metadata": {},
   "source": [
    "# Logistic Regression"
   ]
  },
  {
   "cell_type": "code",
   "execution_count": 113,
   "id": "5bcd3d25",
   "metadata": {},
   "outputs": [],
   "source": [
    "## Create a Logistic Regression Model\n",
    "classifier = LogisticRegression(solver='lbfgs',\n",
    "                                max_iter=200,\n",
    "                                random_state=1)"
   ]
  },
  {
   "cell_type": "code",
   "execution_count": 114,
   "id": "d471f8f4",
   "metadata": {},
   "outputs": [
    {
     "ename": "ValueError",
     "evalue": "Expected 2D array, got 1D array instead:\narray=[  6094.   1196.   5212.   2523.   9842.   2548.   2364.   3683.   1190.\n   2886.  86153.  20110.   6428.  22956.   1948.   6208.  44309.   1232.\n   1308.   7070.  11410.  27319.  15490.  11081.  50435.   2339.   3347.\n  10987.   3555.  27332.   5499.   5534.  17237.   5124.   4836.   6026.\n   3251.    815.   3997.  10987.   6376.   5848.   6583.   6447.   3622.\n   4255.   2337.  19123.  11623.   2062.   7313.  22028. 103995.  28343.\n  25155.   9816.   3956.   1816.  10937.   5418.   6208.   7239.   5370.\n   2274.   6999.  12390.  20107.   5274.   7385.   8718.  11252.   1063.\n   7423.   6704.   2235.   5266.   2942.  13683.   2631.   1964.  23936.\n   2020.  18859.   5253.   1603.   4915.   5367.  11718.  32658.   1440.\n  15739.  17370.  15261.  26535.   3011.   3008. 100973.   1645.   2668.\n  89357.   7962.   1372.   1714.   4557.  10314.  12335.  16124.  14170.\n   1350.   2704.   9087.   1655.   7144.  21099.   8375.   1276.   7527.\n  17438.   2498.  11451.   4240.   3509.   1874.    876.  21603.  41828.\n   3545.  31939.  11606.  17895.   8494.   1993.   8639.    585.   1044.\n   6786.   3372.   3131.  14105. 134823.   2385.   5148.    748.   3252.\n  10624.   3349.   1995.   5299.   8460.   2976.  16613.   2980. 114207.\n  19703.    920.   6784.   3302.   2475.  45384.  18189.   5211.   9976.\n  14580.  60123.   3760.   5110.   2634.   4802.    705.   5861.   9013.\n  45974.   8531.  48510.  13270.   2053.    678.   3665.  28981.  13955.\n    850.   8877.   8416.   4294.  12390.  11297.    862.   5973.   4404.\n   2244.  38589.   3676.  23574.   2710.    944.  10647.   7864.  32607.\n   1218.  11990.  58083.  32700.   6373.   4735.   1680.   5792.   1633.\n  17126.   5410.  19949.   8784.   4378.   3702.  11680.   2197.   1967.\n   5156.  34505.   1152.   2277.  39861.   5891.   2294.   3467.   3773.\n  12636.  16696.  54724.  19395.   6138.   4869.  13449.   1207.   4097.\n   3848.   2459.  12615.   6016.  18745.  51912.   5387.   3849.   3227.\n  12233.  35649.   3788.  31794.   5960.  23321.   2041.   3654.  22410.\n  10689.   4630.   1525.  89862.   2830.   3115.   8928.   5303.  11728.\n   1896.   4043.   2747.  13931.   6677.   4767.   9325.   1997.   6674.\n  19406.  18119.   4426.   3800.   9691.   4225.  54794.   2386.  34795.\n   2217.   2670.   2962.   9136.   2759.   9279.   6418.   7539.   4138.\n  21095.   3452.  13457.   9957.   6190.   4180.  16891.   3736.   7226.\n  15797.   4595.   5984.   2550.    981.   2628.   7008.   2108.   1276.\n   2113.    997.   9467.  26969.  19466.  21100.  38801.   4265.  48549.\n  21104.   2866.   5387.   1559.   3131.   6526.   1026.  12768.  18133.\n  18261.  44706.   3034.   7732.   1102.    813.  12260.   9242.  17776.\n   3527.   5160.   2430.   8853.  23384.  32009.  10988.   6520.   5866.\n   7946.   3201.  14490.   3354.  10293.   9892.   3999.  15497.   3443.\n   9798.   2127.   8897.   5831.   3924.  17657.   2510.  27072.   1442.\n  14083.   2637.  15855.    928.   9302.  17604.   8359.   1566.   3631.\n   5648.   1697.   9698.   8184.   3334.   5919.  18135.   4329.   3601.\n   8449.   7426.   2770.   8331.   8196.   3060.  17810.   9955.  16342.\n  23786.   5114.   4657.   2268.  37400.  56747.   4343. 119649.  34630.\n  11546.  16305.  15294.   6823.   5532.  14065.   2676.   5287.   3952.\n  38509.  24392.   4403.  15323.   7802.  14854.   3756.   7215.   4810.\n  21240.   2443.  70488.  15380.   8472.   3599.   6659.   4244.   2345.\n   3937.   6191.  41496.   2569.  21143.   1605.   4453.  16281.   1467.\n   4909.  20713.   7544.   2273.   6633.  30859.   2071.   5657.   9357.\n  33598.   4604.  88697.   3796.   7088.  53973.   2266.   7591.  16187.\n  10070.   2186.   3305.   1886.  12854.   1231.  21037.   1552.  11292.\n   3510.   7231.   1088.   1840.   4446.  60488.  27275.  18544.  12917.\n  19773.   6432.  11109.   7015.  13401.   8799.   7274.  17896.   3912.\n   5077.   2254.  11194.   7633.   3587.  11799.   5480.   2159.  12652.\n   3751.   2292.   3178.   1039.   1246.  15037.   2104.  28558.   2944.\n   9800.   4860.   3139.   8990.   1669.   5520.  16175.  18518.  15273.\n  10788.   3260.  17721.  10865.   3770.   3463.  22319.   6555.   2874.\n   5772.    641.   5639.  27232.   1662.  11532.  16100.  10419.   7167.\n   2789.   3151.    597.  14632.  32031.   8991.   8266.  14318.   4174.\n   6069.   1310.   3359.   5555.  20760.   1726.   2684.  22562.   3737.\n  10921.   1820.   6252.   8528.].\nReshape your data either using array.reshape(-1, 1) if your data has a single feature or array.reshape(1, -1) if it contains a single sample.",
     "output_type": "error",
     "traceback": [
      "\u001b[1;31m---------------------------------------------------------------------------\u001b[0m",
      "\u001b[1;31mValueError\u001b[0m                                Traceback (most recent call last)",
      "\u001b[1;32m~\\AppData\\Local\\Temp\\ipykernel_96428\\2557701733.py\u001b[0m in \u001b[0;36m<module>\u001b[1;34m\u001b[0m\n\u001b[0;32m      1\u001b[0m \u001b[1;31m## Fit (train) or model using the training data\u001b[0m\u001b[1;33m\u001b[0m\u001b[1;33m\u001b[0m\u001b[1;33m\u001b[0m\u001b[0m\n\u001b[1;32m----> 2\u001b[1;33m \u001b[0mclassifier\u001b[0m\u001b[1;33m.\u001b[0m\u001b[0mfit\u001b[0m\u001b[1;33m(\u001b[0m\u001b[0mX_train\u001b[0m\u001b[1;33m,\u001b[0m \u001b[0my_train\u001b[0m\u001b[1;33m)\u001b[0m\u001b[1;33m\u001b[0m\u001b[1;33m\u001b[0m\u001b[0m\n\u001b[0m",
      "\u001b[1;32m~\\anaconda3\\envs\\mlenv\\lib\\site-packages\\sklearn\\linear_model\\_logistic.py\u001b[0m in \u001b[0;36mfit\u001b[1;34m(self, X, y, sample_weight)\u001b[0m\n\u001b[0;32m   1512\u001b[0m             \u001b[0mdtype\u001b[0m\u001b[1;33m=\u001b[0m\u001b[0m_dtype\u001b[0m\u001b[1;33m,\u001b[0m\u001b[1;33m\u001b[0m\u001b[1;33m\u001b[0m\u001b[0m\n\u001b[0;32m   1513\u001b[0m             \u001b[0morder\u001b[0m\u001b[1;33m=\u001b[0m\u001b[1;34m\"C\"\u001b[0m\u001b[1;33m,\u001b[0m\u001b[1;33m\u001b[0m\u001b[1;33m\u001b[0m\u001b[0m\n\u001b[1;32m-> 1514\u001b[1;33m             \u001b[0maccept_large_sparse\u001b[0m\u001b[1;33m=\u001b[0m\u001b[0msolver\u001b[0m \u001b[1;33m!=\u001b[0m \u001b[1;34m\"liblinear\"\u001b[0m\u001b[1;33m,\u001b[0m\u001b[1;33m\u001b[0m\u001b[1;33m\u001b[0m\u001b[0m\n\u001b[0m\u001b[0;32m   1515\u001b[0m         )\n\u001b[0;32m   1516\u001b[0m         \u001b[0mcheck_classification_targets\u001b[0m\u001b[1;33m(\u001b[0m\u001b[0my\u001b[0m\u001b[1;33m)\u001b[0m\u001b[1;33m\u001b[0m\u001b[1;33m\u001b[0m\u001b[0m\n",
      "\u001b[1;32m~\\anaconda3\\envs\\mlenv\\lib\\site-packages\\sklearn\\base.py\u001b[0m in \u001b[0;36m_validate_data\u001b[1;34m(self, X, y, reset, validate_separately, **check_params)\u001b[0m\n\u001b[0;32m    570\u001b[0m                 \u001b[0my\u001b[0m \u001b[1;33m=\u001b[0m \u001b[0mcheck_array\u001b[0m\u001b[1;33m(\u001b[0m\u001b[0my\u001b[0m\u001b[1;33m,\u001b[0m \u001b[1;33m**\u001b[0m\u001b[0mcheck_y_params\u001b[0m\u001b[1;33m)\u001b[0m\u001b[1;33m\u001b[0m\u001b[1;33m\u001b[0m\u001b[0m\n\u001b[0;32m    571\u001b[0m             \u001b[1;32melse\u001b[0m\u001b[1;33m:\u001b[0m\u001b[1;33m\u001b[0m\u001b[1;33m\u001b[0m\u001b[0m\n\u001b[1;32m--> 572\u001b[1;33m                 \u001b[0mX\u001b[0m\u001b[1;33m,\u001b[0m \u001b[0my\u001b[0m \u001b[1;33m=\u001b[0m \u001b[0mcheck_X_y\u001b[0m\u001b[1;33m(\u001b[0m\u001b[0mX\u001b[0m\u001b[1;33m,\u001b[0m \u001b[0my\u001b[0m\u001b[1;33m,\u001b[0m \u001b[1;33m**\u001b[0m\u001b[0mcheck_params\u001b[0m\u001b[1;33m)\u001b[0m\u001b[1;33m\u001b[0m\u001b[1;33m\u001b[0m\u001b[0m\n\u001b[0m\u001b[0;32m    573\u001b[0m             \u001b[0mout\u001b[0m \u001b[1;33m=\u001b[0m \u001b[0mX\u001b[0m\u001b[1;33m,\u001b[0m \u001b[0my\u001b[0m\u001b[1;33m\u001b[0m\u001b[1;33m\u001b[0m\u001b[0m\n\u001b[0;32m    574\u001b[0m \u001b[1;33m\u001b[0m\u001b[0m\n",
      "\u001b[1;32m~\\anaconda3\\envs\\mlenv\\lib\\site-packages\\sklearn\\utils\\validation.py\u001b[0m in \u001b[0;36mcheck_X_y\u001b[1;34m(X, y, accept_sparse, accept_large_sparse, dtype, order, copy, force_all_finite, ensure_2d, allow_nd, multi_output, ensure_min_samples, ensure_min_features, y_numeric, estimator)\u001b[0m\n\u001b[0;32m    966\u001b[0m         \u001b[0mensure_min_samples\u001b[0m\u001b[1;33m=\u001b[0m\u001b[0mensure_min_samples\u001b[0m\u001b[1;33m,\u001b[0m\u001b[1;33m\u001b[0m\u001b[1;33m\u001b[0m\u001b[0m\n\u001b[0;32m    967\u001b[0m         \u001b[0mensure_min_features\u001b[0m\u001b[1;33m=\u001b[0m\u001b[0mensure_min_features\u001b[0m\u001b[1;33m,\u001b[0m\u001b[1;33m\u001b[0m\u001b[1;33m\u001b[0m\u001b[0m\n\u001b[1;32m--> 968\u001b[1;33m         \u001b[0mestimator\u001b[0m\u001b[1;33m=\u001b[0m\u001b[0mestimator\u001b[0m\u001b[1;33m,\u001b[0m\u001b[1;33m\u001b[0m\u001b[1;33m\u001b[0m\u001b[0m\n\u001b[0m\u001b[0;32m    969\u001b[0m     )\n\u001b[0;32m    970\u001b[0m \u001b[1;33m\u001b[0m\u001b[0m\n",
      "\u001b[1;32m~\\anaconda3\\envs\\mlenv\\lib\\site-packages\\sklearn\\utils\\validation.py\u001b[0m in \u001b[0;36mcheck_array\u001b[1;34m(array, accept_sparse, accept_large_sparse, dtype, order, copy, force_all_finite, ensure_2d, allow_nd, ensure_min_samples, ensure_min_features, estimator)\u001b[0m\n\u001b[0;32m    763\u001b[0m                     \u001b[1;34m\"Reshape your data either using array.reshape(-1, 1) if \"\u001b[0m\u001b[1;33m\u001b[0m\u001b[1;33m\u001b[0m\u001b[0m\n\u001b[0;32m    764\u001b[0m                     \u001b[1;34m\"your data has a single feature or array.reshape(1, -1) \"\u001b[0m\u001b[1;33m\u001b[0m\u001b[1;33m\u001b[0m\u001b[0m\n\u001b[1;32m--> 765\u001b[1;33m                     \u001b[1;34m\"if it contains a single sample.\"\u001b[0m\u001b[1;33m.\u001b[0m\u001b[0mformat\u001b[0m\u001b[1;33m(\u001b[0m\u001b[0marray\u001b[0m\u001b[1;33m)\u001b[0m\u001b[1;33m\u001b[0m\u001b[1;33m\u001b[0m\u001b[0m\n\u001b[0m\u001b[0;32m    766\u001b[0m                 )\n\u001b[0;32m    767\u001b[0m \u001b[1;33m\u001b[0m\u001b[0m\n",
      "\u001b[1;31mValueError\u001b[0m: Expected 2D array, got 1D array instead:\narray=[  6094.   1196.   5212.   2523.   9842.   2548.   2364.   3683.   1190.\n   2886.  86153.  20110.   6428.  22956.   1948.   6208.  44309.   1232.\n   1308.   7070.  11410.  27319.  15490.  11081.  50435.   2339.   3347.\n  10987.   3555.  27332.   5499.   5534.  17237.   5124.   4836.   6026.\n   3251.    815.   3997.  10987.   6376.   5848.   6583.   6447.   3622.\n   4255.   2337.  19123.  11623.   2062.   7313.  22028. 103995.  28343.\n  25155.   9816.   3956.   1816.  10937.   5418.   6208.   7239.   5370.\n   2274.   6999.  12390.  20107.   5274.   7385.   8718.  11252.   1063.\n   7423.   6704.   2235.   5266.   2942.  13683.   2631.   1964.  23936.\n   2020.  18859.   5253.   1603.   4915.   5367.  11718.  32658.   1440.\n  15739.  17370.  15261.  26535.   3011.   3008. 100973.   1645.   2668.\n  89357.   7962.   1372.   1714.   4557.  10314.  12335.  16124.  14170.\n   1350.   2704.   9087.   1655.   7144.  21099.   8375.   1276.   7527.\n  17438.   2498.  11451.   4240.   3509.   1874.    876.  21603.  41828.\n   3545.  31939.  11606.  17895.   8494.   1993.   8639.    585.   1044.\n   6786.   3372.   3131.  14105. 134823.   2385.   5148.    748.   3252.\n  10624.   3349.   1995.   5299.   8460.   2976.  16613.   2980. 114207.\n  19703.    920.   6784.   3302.   2475.  45384.  18189.   5211.   9976.\n  14580.  60123.   3760.   5110.   2634.   4802.    705.   5861.   9013.\n  45974.   8531.  48510.  13270.   2053.    678.   3665.  28981.  13955.\n    850.   8877.   8416.   4294.  12390.  11297.    862.   5973.   4404.\n   2244.  38589.   3676.  23574.   2710.    944.  10647.   7864.  32607.\n   1218.  11990.  58083.  32700.   6373.   4735.   1680.   5792.   1633.\n  17126.   5410.  19949.   8784.   4378.   3702.  11680.   2197.   1967.\n   5156.  34505.   1152.   2277.  39861.   5891.   2294.   3467.   3773.\n  12636.  16696.  54724.  19395.   6138.   4869.  13449.   1207.   4097.\n   3848.   2459.  12615.   6016.  18745.  51912.   5387.   3849.   3227.\n  12233.  35649.   3788.  31794.   5960.  23321.   2041.   3654.  22410.\n  10689.   4630.   1525.  89862.   2830.   3115.   8928.   5303.  11728.\n   1896.   4043.   2747.  13931.   6677.   4767.   9325.   1997.   6674.\n  19406.  18119.   4426.   3800.   9691.   4225.  54794.   2386.  34795.\n   2217.   2670.   2962.   9136.   2759.   9279.   6418.   7539.   4138.\n  21095.   3452.  13457.   9957.   6190.   4180.  16891.   3736.   7226.\n  15797.   4595.   5984.   2550.    981.   2628.   7008.   2108.   1276.\n   2113.    997.   9467.  26969.  19466.  21100.  38801.   4265.  48549.\n  21104.   2866.   5387.   1559.   3131.   6526.   1026.  12768.  18133.\n  18261.  44706.   3034.   7732.   1102.    813.  12260.   9242.  17776.\n   3527.   5160.   2430.   8853.  23384.  32009.  10988.   6520.   5866.\n   7946.   3201.  14490.   3354.  10293.   9892.   3999.  15497.   3443.\n   9798.   2127.   8897.   5831.   3924.  17657.   2510.  27072.   1442.\n  14083.   2637.  15855.    928.   9302.  17604.   8359.   1566.   3631.\n   5648.   1697.   9698.   8184.   3334.   5919.  18135.   4329.   3601.\n   8449.   7426.   2770.   8331.   8196.   3060.  17810.   9955.  16342.\n  23786.   5114.   4657.   2268.  37400.  56747.   4343. 119649.  34630.\n  11546.  16305.  15294.   6823.   5532.  14065.   2676.   5287.   3952.\n  38509.  24392.   4403.  15323.   7802.  14854.   3756.   7215.   4810.\n  21240.   2443.  70488.  15380.   8472.   3599.   6659.   4244.   2345.\n   3937.   6191.  41496.   2569.  21143.   1605.   4453.  16281.   1467.\n   4909.  20713.   7544.   2273.   6633.  30859.   2071.   5657.   9357.\n  33598.   4604.  88697.   3796.   7088.  53973.   2266.   7591.  16187.\n  10070.   2186.   3305.   1886.  12854.   1231.  21037.   1552.  11292.\n   3510.   7231.   1088.   1840.   4446.  60488.  27275.  18544.  12917.\n  19773.   6432.  11109.   7015.  13401.   8799.   7274.  17896.   3912.\n   5077.   2254.  11194.   7633.   3587.  11799.   5480.   2159.  12652.\n   3751.   2292.   3178.   1039.   1246.  15037.   2104.  28558.   2944.\n   9800.   4860.   3139.   8990.   1669.   5520.  16175.  18518.  15273.\n  10788.   3260.  17721.  10865.   3770.   3463.  22319.   6555.   2874.\n   5772.    641.   5639.  27232.   1662.  11532.  16100.  10419.   7167.\n   2789.   3151.    597.  14632.  32031.   8991.   8266.  14318.   4174.\n   6069.   1310.   3359.   5555.  20760.   1726.   2684.  22562.   3737.\n  10921.   1820.   6252.   8528.].\nReshape your data either using array.reshape(-1, 1) if your data has a single feature or array.reshape(1, -1) if it contains a single sample."
     ]
    }
   ],
   "source": [
    "## Fit (train) or model using the training data\n",
    "classifier.fit(X_train, y_train)"
   ]
  },
  {
   "cell_type": "code",
   "execution_count": 115,
   "id": "73f2203f",
   "metadata": {},
   "outputs": [
    {
     "ename": "NotFittedError",
     "evalue": "This LogisticRegression instance is not fitted yet. Call 'fit' with appropriate arguments before using this estimator.",
     "output_type": "error",
     "traceback": [
      "\u001b[1;31m---------------------------------------------------------------------------\u001b[0m",
      "\u001b[1;31mNotFittedError\u001b[0m                            Traceback (most recent call last)",
      "\u001b[1;32m~\\AppData\\Local\\Temp\\ipykernel_96428\\659415597.py\u001b[0m in \u001b[0;36m<module>\u001b[1;34m\u001b[0m\n\u001b[0;32m      1\u001b[0m \u001b[1;31m## Make predictions\u001b[0m\u001b[1;33m\u001b[0m\u001b[1;33m\u001b[0m\u001b[1;33m\u001b[0m\u001b[0m\n\u001b[1;32m----> 2\u001b[1;33m \u001b[0my_pred\u001b[0m \u001b[1;33m=\u001b[0m \u001b[0mclassifier\u001b[0m\u001b[1;33m.\u001b[0m\u001b[0mpredict\u001b[0m\u001b[1;33m(\u001b[0m\u001b[0mX_test\u001b[0m\u001b[1;33m)\u001b[0m\u001b[1;33m\u001b[0m\u001b[1;33m\u001b[0m\u001b[0m\n\u001b[0m\u001b[0;32m      3\u001b[0m \u001b[0mresults\u001b[0m \u001b[1;33m=\u001b[0m \u001b[0mpd\u001b[0m\u001b[1;33m.\u001b[0m\u001b[0mDataFrame\u001b[0m\u001b[1;33m(\u001b[0m\u001b[1;33m{\u001b[0m\u001b[1;34m\"Prediction\"\u001b[0m\u001b[1;33m:\u001b[0m \u001b[0my_pred\u001b[0m\u001b[1;33m,\u001b[0m \u001b[1;34m\"Actual\"\u001b[0m\u001b[1;33m:\u001b[0m \u001b[0my_test\u001b[0m\u001b[1;33m}\u001b[0m\u001b[1;33m)\u001b[0m\u001b[1;33m.\u001b[0m\u001b[0mreset_index\u001b[0m\u001b[1;33m(\u001b[0m\u001b[0mdrop\u001b[0m\u001b[1;33m=\u001b[0m\u001b[1;32mTrue\u001b[0m\u001b[1;33m)\u001b[0m\u001b[1;33m\u001b[0m\u001b[1;33m\u001b[0m\u001b[0m\n\u001b[0;32m      4\u001b[0m \u001b[0mresults\u001b[0m\u001b[1;33m.\u001b[0m\u001b[0mhead\u001b[0m\u001b[1;33m(\u001b[0m\u001b[1;36m20\u001b[0m\u001b[1;33m)\u001b[0m\u001b[1;33m\u001b[0m\u001b[1;33m\u001b[0m\u001b[0m\n",
      "\u001b[1;32m~\\anaconda3\\envs\\mlenv\\lib\\site-packages\\sklearn\\linear_model\\_base.py\u001b[0m in \u001b[0;36mpredict\u001b[1;34m(self, X)\u001b[0m\n\u001b[0;32m    423\u001b[0m             \u001b[0mPredicted\u001b[0m \u001b[1;32mclass\u001b[0m \u001b[0mlabel\u001b[0m \u001b[0mper\u001b[0m \u001b[0msample\u001b[0m\u001b[1;33m.\u001b[0m\u001b[1;33m\u001b[0m\u001b[1;33m\u001b[0m\u001b[0m\n\u001b[0;32m    424\u001b[0m         \"\"\"\n\u001b[1;32m--> 425\u001b[1;33m         \u001b[0mscores\u001b[0m \u001b[1;33m=\u001b[0m \u001b[0mself\u001b[0m\u001b[1;33m.\u001b[0m\u001b[0mdecision_function\u001b[0m\u001b[1;33m(\u001b[0m\u001b[0mX\u001b[0m\u001b[1;33m)\u001b[0m\u001b[1;33m\u001b[0m\u001b[1;33m\u001b[0m\u001b[0m\n\u001b[0m\u001b[0;32m    426\u001b[0m         \u001b[1;32mif\u001b[0m \u001b[0mlen\u001b[0m\u001b[1;33m(\u001b[0m\u001b[0mscores\u001b[0m\u001b[1;33m.\u001b[0m\u001b[0mshape\u001b[0m\u001b[1;33m)\u001b[0m \u001b[1;33m==\u001b[0m \u001b[1;36m1\u001b[0m\u001b[1;33m:\u001b[0m\u001b[1;33m\u001b[0m\u001b[1;33m\u001b[0m\u001b[0m\n\u001b[0;32m    427\u001b[0m             \u001b[0mindices\u001b[0m \u001b[1;33m=\u001b[0m \u001b[1;33m(\u001b[0m\u001b[0mscores\u001b[0m \u001b[1;33m>\u001b[0m \u001b[1;36m0\u001b[0m\u001b[1;33m)\u001b[0m\u001b[1;33m.\u001b[0m\u001b[0mastype\u001b[0m\u001b[1;33m(\u001b[0m\u001b[0mint\u001b[0m\u001b[1;33m)\u001b[0m\u001b[1;33m\u001b[0m\u001b[1;33m\u001b[0m\u001b[0m\n",
      "\u001b[1;32m~\\anaconda3\\envs\\mlenv\\lib\\site-packages\\sklearn\\linear_model\\_base.py\u001b[0m in \u001b[0;36mdecision_function\u001b[1;34m(self, X)\u001b[0m\n\u001b[0;32m    403\u001b[0m             \u001b[1;32mclass\u001b[0m \u001b[0mwould\u001b[0m \u001b[0mbe\u001b[0m \u001b[0mpredicted\u001b[0m\u001b[1;33m.\u001b[0m\u001b[1;33m\u001b[0m\u001b[1;33m\u001b[0m\u001b[0m\n\u001b[0;32m    404\u001b[0m         \"\"\"\n\u001b[1;32m--> 405\u001b[1;33m         \u001b[0mcheck_is_fitted\u001b[0m\u001b[1;33m(\u001b[0m\u001b[0mself\u001b[0m\u001b[1;33m)\u001b[0m\u001b[1;33m\u001b[0m\u001b[1;33m\u001b[0m\u001b[0m\n\u001b[0m\u001b[0;32m    406\u001b[0m \u001b[1;33m\u001b[0m\u001b[0m\n\u001b[0;32m    407\u001b[0m         \u001b[0mX\u001b[0m \u001b[1;33m=\u001b[0m \u001b[0mself\u001b[0m\u001b[1;33m.\u001b[0m\u001b[0m_validate_data\u001b[0m\u001b[1;33m(\u001b[0m\u001b[0mX\u001b[0m\u001b[1;33m,\u001b[0m \u001b[0maccept_sparse\u001b[0m\u001b[1;33m=\u001b[0m\u001b[1;34m\"csr\"\u001b[0m\u001b[1;33m,\u001b[0m \u001b[0mreset\u001b[0m\u001b[1;33m=\u001b[0m\u001b[1;32mFalse\u001b[0m\u001b[1;33m)\u001b[0m\u001b[1;33m\u001b[0m\u001b[1;33m\u001b[0m\u001b[0m\n",
      "\u001b[1;32m~\\anaconda3\\envs\\mlenv\\lib\\site-packages\\sklearn\\utils\\validation.py\u001b[0m in \u001b[0;36mcheck_is_fitted\u001b[1;34m(estimator, attributes, msg, all_or_any)\u001b[0m\n\u001b[0;32m   1206\u001b[0m \u001b[1;33m\u001b[0m\u001b[0m\n\u001b[0;32m   1207\u001b[0m     \u001b[1;32mif\u001b[0m \u001b[1;32mnot\u001b[0m \u001b[0mfitted\u001b[0m\u001b[1;33m:\u001b[0m\u001b[1;33m\u001b[0m\u001b[1;33m\u001b[0m\u001b[0m\n\u001b[1;32m-> 1208\u001b[1;33m         \u001b[1;32mraise\u001b[0m \u001b[0mNotFittedError\u001b[0m\u001b[1;33m(\u001b[0m\u001b[0mmsg\u001b[0m \u001b[1;33m%\u001b[0m \u001b[1;33m{\u001b[0m\u001b[1;34m\"name\"\u001b[0m\u001b[1;33m:\u001b[0m \u001b[0mtype\u001b[0m\u001b[1;33m(\u001b[0m\u001b[0mestimator\u001b[0m\u001b[1;33m)\u001b[0m\u001b[1;33m.\u001b[0m\u001b[0m__name__\u001b[0m\u001b[1;33m}\u001b[0m\u001b[1;33m)\u001b[0m\u001b[1;33m\u001b[0m\u001b[1;33m\u001b[0m\u001b[0m\n\u001b[0m\u001b[0;32m   1209\u001b[0m \u001b[1;33m\u001b[0m\u001b[0m\n\u001b[0;32m   1210\u001b[0m \u001b[1;33m\u001b[0m\u001b[0m\n",
      "\u001b[1;31mNotFittedError\u001b[0m: This LogisticRegression instance is not fitted yet. Call 'fit' with appropriate arguments before using this estimator."
     ]
    }
   ],
   "source": [
    " ## Make predictions\n",
    "y_pred = classifier.predict(X_test)\n",
    "results = pd.DataFrame({\"Prediction\": y_pred, \"Actual\": y_test}).reset_index(drop=True)\n",
    "results.head(20)"
   ]
  },
  {
   "cell_type": "code",
   "execution_count": null,
   "id": "84192f41",
   "metadata": {},
   "outputs": [],
   "source": [
    "# Predict Accuracy Score\n",
    "print(accuracy_score(y_test, y_pred))"
   ]
  },
  {
   "cell_type": "markdown",
   "id": "c0ff394e",
   "metadata": {},
   "source": [
    "# Balanced Random Forest Classifier"
   ]
  },
  {
   "cell_type": "code",
   "execution_count": 108,
   "id": "b2b4ace2",
   "metadata": {},
   "outputs": [
    {
     "ename": "ValueError",
     "evalue": "Expected 2D array, got 1D array instead:\narray=[  6094.   1196.   5212.   2523.   9842.   2548.   2364.   3683.   1190.\n   2886.  86153.  20110.   6428.  22956.   1948.   6208.  44309.   1232.\n   1308.   7070.  11410.  27319.  15490.  11081.  50435.   2339.   3347.\n  10987.   3555.  27332.   5499.   5534.  17237.   5124.   4836.   6026.\n   3251.    815.   3997.  10987.   6376.   5848.   6583.   6447.   3622.\n   4255.   2337.  19123.  11623.   2062.   7313.  22028. 103995.  28343.\n  25155.   9816.   3956.   1816.  10937.   5418.   6208.   7239.   5370.\n   2274.   6999.  12390.  20107.   5274.   7385.   8718.  11252.   1063.\n   7423.   6704.   2235.   5266.   2942.  13683.   2631.   1964.  23936.\n   2020.  18859.   5253.   1603.   4915.   5367.  11718.  32658.   1440.\n  15739.  17370.  15261.  26535.   3011.   3008. 100973.   1645.   2668.\n  89357.   7962.   1372.   1714.   4557.  10314.  12335.  16124.  14170.\n   1350.   2704.   9087.   1655.   7144.  21099.   8375.   1276.   7527.\n  17438.   2498.  11451.   4240.   3509.   1874.    876.  21603.  41828.\n   3545.  31939.  11606.  17895.   8494.   1993.   8639.    585.   1044.\n   6786.   3372.   3131.  14105. 134823.   2385.   5148.    748.   3252.\n  10624.   3349.   1995.   5299.   8460.   2976.  16613.   2980. 114207.\n  19703.    920.   6784.   3302.   2475.  45384.  18189.   5211.   9976.\n  14580.  60123.   3760.   5110.   2634.   4802.    705.   5861.   9013.\n  45974.   8531.  48510.  13270.   2053.    678.   3665.  28981.  13955.\n    850.   8877.   8416.   4294.  12390.  11297.    862.   5973.   4404.\n   2244.  38589.   3676.  23574.   2710.    944.  10647.   7864.  32607.\n   1218.  11990.  58083.  32700.   6373.   4735.   1680.   5792.   1633.\n  17126.   5410.  19949.   8784.   4378.   3702.  11680.   2197.   1967.\n   5156.  34505.   1152.   2277.  39861.   5891.   2294.   3467.   3773.\n  12636.  16696.  54724.  19395.   6138.   4869.  13449.   1207.   4097.\n   3848.   2459.  12615.   6016.  18745.  51912.   5387.   3849.   3227.\n  12233.  35649.   3788.  31794.   5960.  23321.   2041.   3654.  22410.\n  10689.   4630.   1525.  89862.   2830.   3115.   8928.   5303.  11728.\n   1896.   4043.   2747.  13931.   6677.   4767.   9325.   1997.   6674.\n  19406.  18119.   4426.   3800.   9691.   4225.  54794.   2386.  34795.\n   2217.   2670.   2962.   9136.   2759.   9279.   6418.   7539.   4138.\n  21095.   3452.  13457.   9957.   6190.   4180.  16891.   3736.   7226.\n  15797.   4595.   5984.   2550.    981.   2628.   7008.   2108.   1276.\n   2113.    997.   9467.  26969.  19466.  21100.  38801.   4265.  48549.\n  21104.   2866.   5387.   1559.   3131.   6526.   1026.  12768.  18133.\n  18261.  44706.   3034.   7732.   1102.    813.  12260.   9242.  17776.\n   3527.   5160.   2430.   8853.  23384.  32009.  10988.   6520.   5866.\n   7946.   3201.  14490.   3354.  10293.   9892.   3999.  15497.   3443.\n   9798.   2127.   8897.   5831.   3924.  17657.   2510.  27072.   1442.\n  14083.   2637.  15855.    928.   9302.  17604.   8359.   1566.   3631.\n   5648.   1697.   9698.   8184.   3334.   5919.  18135.   4329.   3601.\n   8449.   7426.   2770.   8331.   8196.   3060.  17810.   9955.  16342.\n  23786.   5114.   4657.   2268.  37400.  56747.   4343. 119649.  34630.\n  11546.  16305.  15294.   6823.   5532.  14065.   2676.   5287.   3952.\n  38509.  24392.   4403.  15323.   7802.  14854.   3756.   7215.   4810.\n  21240.   2443.  70488.  15380.   8472.   3599.   6659.   4244.   2345.\n   3937.   6191.  41496.   2569.  21143.   1605.   4453.  16281.   1467.\n   4909.  20713.   7544.   2273.   6633.  30859.   2071.   5657.   9357.\n  33598.   4604.  88697.   3796.   7088.  53973.   2266.   7591.  16187.\n  10070.   2186.   3305.   1886.  12854.   1231.  21037.   1552.  11292.\n   3510.   7231.   1088.   1840.   4446.  60488.  27275.  18544.  12917.\n  19773.   6432.  11109.   7015.  13401.   8799.   7274.  17896.   3912.\n   5077.   2254.  11194.   7633.   3587.  11799.   5480.   2159.  12652.\n   3751.   2292.   3178.   1039.   1246.  15037.   2104.  28558.   2944.\n   9800.   4860.   3139.   8990.   1669.   5520.  16175.  18518.  15273.\n  10788.   3260.  17721.  10865.   3770.   3463.  22319.   6555.   2874.\n   5772.    641.   5639.  27232.   1662.  11532.  16100.  10419.   7167.\n   2789.   3151.    597.  14632.  32031.   8991.   8266.  14318.   4174.\n   6069.   1310.   3359.   5555.  20760.   1726.   2684.  22562.   3737.\n  10921.   1820.   6252.   8528.].\nReshape your data either using array.reshape(-1, 1) if your data has a single feature or array.reshape(1, -1) if it contains a single sample.",
     "output_type": "error",
     "traceback": [
      "\u001b[1;31m---------------------------------------------------------------------------\u001b[0m",
      "\u001b[1;31mValueError\u001b[0m                                Traceback (most recent call last)",
      "\u001b[1;32m~\\AppData\\Local\\Temp\\ipykernel_96428\\928269161.py\u001b[0m in \u001b[0;36m<module>\u001b[1;34m\u001b[0m\n\u001b[0;32m      2\u001b[0m \u001b[1;32mfrom\u001b[0m \u001b[0mimblearn\u001b[0m\u001b[1;33m.\u001b[0m\u001b[0mensemble\u001b[0m \u001b[1;32mimport\u001b[0m \u001b[0mBalancedRandomForestClassifier\u001b[0m\u001b[1;33m\u001b[0m\u001b[1;33m\u001b[0m\u001b[0m\n\u001b[0;32m      3\u001b[0m \u001b[0mbrfc_model\u001b[0m \u001b[1;33m=\u001b[0m \u001b[0mBalancedRandomForestClassifier\u001b[0m\u001b[1;33m(\u001b[0m\u001b[0mn_estimators\u001b[0m \u001b[1;33m=\u001b[0m\u001b[1;36m100\u001b[0m\u001b[1;33m,\u001b[0m \u001b[0mrandom_state\u001b[0m\u001b[1;33m=\u001b[0m\u001b[1;36m1\u001b[0m\u001b[1;33m)\u001b[0m\u001b[1;33m\u001b[0m\u001b[1;33m\u001b[0m\u001b[0m\n\u001b[1;32m----> 4\u001b[1;33m \u001b[0mbrfc_model\u001b[0m\u001b[1;33m.\u001b[0m\u001b[0mfit\u001b[0m\u001b[1;33m(\u001b[0m\u001b[0mX_train\u001b[0m\u001b[1;33m,\u001b[0m \u001b[0my_train\u001b[0m\u001b[1;33m)\u001b[0m\u001b[1;33m\u001b[0m\u001b[1;33m\u001b[0m\u001b[0m\n\u001b[0m",
      "\u001b[1;32m~\\anaconda3\\envs\\mlenv\\lib\\site-packages\\imblearn\\ensemble\\_forest.py\u001b[0m in \u001b[0;36mfit\u001b[1;34m(self, X, y, sample_weight)\u001b[0m\n\u001b[0;32m    443\u001b[0m             \u001b[1;32mraise\u001b[0m \u001b[0mValueError\u001b[0m\u001b[1;33m(\u001b[0m\u001b[1;34m\"sparse multilabel-indicator for y is not supported.\"\u001b[0m\u001b[1;33m)\u001b[0m\u001b[1;33m\u001b[0m\u001b[1;33m\u001b[0m\u001b[0m\n\u001b[0;32m    444\u001b[0m         X, y = self._validate_data(\n\u001b[1;32m--> 445\u001b[1;33m             \u001b[0mX\u001b[0m\u001b[1;33m,\u001b[0m \u001b[0my\u001b[0m\u001b[1;33m,\u001b[0m \u001b[0mmulti_output\u001b[0m\u001b[1;33m=\u001b[0m\u001b[1;32mTrue\u001b[0m\u001b[1;33m,\u001b[0m \u001b[0maccept_sparse\u001b[0m\u001b[1;33m=\u001b[0m\u001b[1;34m\"csc\"\u001b[0m\u001b[1;33m,\u001b[0m \u001b[0mdtype\u001b[0m\u001b[1;33m=\u001b[0m\u001b[0mDTYPE\u001b[0m\u001b[1;33m\u001b[0m\u001b[1;33m\u001b[0m\u001b[0m\n\u001b[0m\u001b[0;32m    446\u001b[0m         )\n\u001b[0;32m    447\u001b[0m         \u001b[1;32mif\u001b[0m \u001b[0msample_weight\u001b[0m \u001b[1;32mis\u001b[0m \u001b[1;32mnot\u001b[0m \u001b[1;32mNone\u001b[0m\u001b[1;33m:\u001b[0m\u001b[1;33m\u001b[0m\u001b[1;33m\u001b[0m\u001b[0m\n",
      "\u001b[1;32m~\\anaconda3\\envs\\mlenv\\lib\\site-packages\\sklearn\\base.py\u001b[0m in \u001b[0;36m_validate_data\u001b[1;34m(self, X, y, reset, validate_separately, **check_params)\u001b[0m\n\u001b[0;32m    570\u001b[0m                 \u001b[0my\u001b[0m \u001b[1;33m=\u001b[0m \u001b[0mcheck_array\u001b[0m\u001b[1;33m(\u001b[0m\u001b[0my\u001b[0m\u001b[1;33m,\u001b[0m \u001b[1;33m**\u001b[0m\u001b[0mcheck_y_params\u001b[0m\u001b[1;33m)\u001b[0m\u001b[1;33m\u001b[0m\u001b[1;33m\u001b[0m\u001b[0m\n\u001b[0;32m    571\u001b[0m             \u001b[1;32melse\u001b[0m\u001b[1;33m:\u001b[0m\u001b[1;33m\u001b[0m\u001b[1;33m\u001b[0m\u001b[0m\n\u001b[1;32m--> 572\u001b[1;33m                 \u001b[0mX\u001b[0m\u001b[1;33m,\u001b[0m \u001b[0my\u001b[0m \u001b[1;33m=\u001b[0m \u001b[0mcheck_X_y\u001b[0m\u001b[1;33m(\u001b[0m\u001b[0mX\u001b[0m\u001b[1;33m,\u001b[0m \u001b[0my\u001b[0m\u001b[1;33m,\u001b[0m \u001b[1;33m**\u001b[0m\u001b[0mcheck_params\u001b[0m\u001b[1;33m)\u001b[0m\u001b[1;33m\u001b[0m\u001b[1;33m\u001b[0m\u001b[0m\n\u001b[0m\u001b[0;32m    573\u001b[0m             \u001b[0mout\u001b[0m \u001b[1;33m=\u001b[0m \u001b[0mX\u001b[0m\u001b[1;33m,\u001b[0m \u001b[0my\u001b[0m\u001b[1;33m\u001b[0m\u001b[1;33m\u001b[0m\u001b[0m\n\u001b[0;32m    574\u001b[0m \u001b[1;33m\u001b[0m\u001b[0m\n",
      "\u001b[1;32m~\\anaconda3\\envs\\mlenv\\lib\\site-packages\\sklearn\\utils\\validation.py\u001b[0m in \u001b[0;36mcheck_X_y\u001b[1;34m(X, y, accept_sparse, accept_large_sparse, dtype, order, copy, force_all_finite, ensure_2d, allow_nd, multi_output, ensure_min_samples, ensure_min_features, y_numeric, estimator)\u001b[0m\n\u001b[0;32m    966\u001b[0m         \u001b[0mensure_min_samples\u001b[0m\u001b[1;33m=\u001b[0m\u001b[0mensure_min_samples\u001b[0m\u001b[1;33m,\u001b[0m\u001b[1;33m\u001b[0m\u001b[1;33m\u001b[0m\u001b[0m\n\u001b[0;32m    967\u001b[0m         \u001b[0mensure_min_features\u001b[0m\u001b[1;33m=\u001b[0m\u001b[0mensure_min_features\u001b[0m\u001b[1;33m,\u001b[0m\u001b[1;33m\u001b[0m\u001b[1;33m\u001b[0m\u001b[0m\n\u001b[1;32m--> 968\u001b[1;33m         \u001b[0mestimator\u001b[0m\u001b[1;33m=\u001b[0m\u001b[0mestimator\u001b[0m\u001b[1;33m,\u001b[0m\u001b[1;33m\u001b[0m\u001b[1;33m\u001b[0m\u001b[0m\n\u001b[0m\u001b[0;32m    969\u001b[0m     )\n\u001b[0;32m    970\u001b[0m \u001b[1;33m\u001b[0m\u001b[0m\n",
      "\u001b[1;32m~\\anaconda3\\envs\\mlenv\\lib\\site-packages\\sklearn\\utils\\validation.py\u001b[0m in \u001b[0;36mcheck_array\u001b[1;34m(array, accept_sparse, accept_large_sparse, dtype, order, copy, force_all_finite, ensure_2d, allow_nd, ensure_min_samples, ensure_min_features, estimator)\u001b[0m\n\u001b[0;32m    763\u001b[0m                     \u001b[1;34m\"Reshape your data either using array.reshape(-1, 1) if \"\u001b[0m\u001b[1;33m\u001b[0m\u001b[1;33m\u001b[0m\u001b[0m\n\u001b[0;32m    764\u001b[0m                     \u001b[1;34m\"your data has a single feature or array.reshape(1, -1) \"\u001b[0m\u001b[1;33m\u001b[0m\u001b[1;33m\u001b[0m\u001b[0m\n\u001b[1;32m--> 765\u001b[1;33m                     \u001b[1;34m\"if it contains a single sample.\"\u001b[0m\u001b[1;33m.\u001b[0m\u001b[0mformat\u001b[0m\u001b[1;33m(\u001b[0m\u001b[0marray\u001b[0m\u001b[1;33m)\u001b[0m\u001b[1;33m\u001b[0m\u001b[1;33m\u001b[0m\u001b[0m\n\u001b[0m\u001b[0;32m    766\u001b[0m                 )\n\u001b[0;32m    767\u001b[0m \u001b[1;33m\u001b[0m\u001b[0m\n",
      "\u001b[1;31mValueError\u001b[0m: Expected 2D array, got 1D array instead:\narray=[  6094.   1196.   5212.   2523.   9842.   2548.   2364.   3683.   1190.\n   2886.  86153.  20110.   6428.  22956.   1948.   6208.  44309.   1232.\n   1308.   7070.  11410.  27319.  15490.  11081.  50435.   2339.   3347.\n  10987.   3555.  27332.   5499.   5534.  17237.   5124.   4836.   6026.\n   3251.    815.   3997.  10987.   6376.   5848.   6583.   6447.   3622.\n   4255.   2337.  19123.  11623.   2062.   7313.  22028. 103995.  28343.\n  25155.   9816.   3956.   1816.  10937.   5418.   6208.   7239.   5370.\n   2274.   6999.  12390.  20107.   5274.   7385.   8718.  11252.   1063.\n   7423.   6704.   2235.   5266.   2942.  13683.   2631.   1964.  23936.\n   2020.  18859.   5253.   1603.   4915.   5367.  11718.  32658.   1440.\n  15739.  17370.  15261.  26535.   3011.   3008. 100973.   1645.   2668.\n  89357.   7962.   1372.   1714.   4557.  10314.  12335.  16124.  14170.\n   1350.   2704.   9087.   1655.   7144.  21099.   8375.   1276.   7527.\n  17438.   2498.  11451.   4240.   3509.   1874.    876.  21603.  41828.\n   3545.  31939.  11606.  17895.   8494.   1993.   8639.    585.   1044.\n   6786.   3372.   3131.  14105. 134823.   2385.   5148.    748.   3252.\n  10624.   3349.   1995.   5299.   8460.   2976.  16613.   2980. 114207.\n  19703.    920.   6784.   3302.   2475.  45384.  18189.   5211.   9976.\n  14580.  60123.   3760.   5110.   2634.   4802.    705.   5861.   9013.\n  45974.   8531.  48510.  13270.   2053.    678.   3665.  28981.  13955.\n    850.   8877.   8416.   4294.  12390.  11297.    862.   5973.   4404.\n   2244.  38589.   3676.  23574.   2710.    944.  10647.   7864.  32607.\n   1218.  11990.  58083.  32700.   6373.   4735.   1680.   5792.   1633.\n  17126.   5410.  19949.   8784.   4378.   3702.  11680.   2197.   1967.\n   5156.  34505.   1152.   2277.  39861.   5891.   2294.   3467.   3773.\n  12636.  16696.  54724.  19395.   6138.   4869.  13449.   1207.   4097.\n   3848.   2459.  12615.   6016.  18745.  51912.   5387.   3849.   3227.\n  12233.  35649.   3788.  31794.   5960.  23321.   2041.   3654.  22410.\n  10689.   4630.   1525.  89862.   2830.   3115.   8928.   5303.  11728.\n   1896.   4043.   2747.  13931.   6677.   4767.   9325.   1997.   6674.\n  19406.  18119.   4426.   3800.   9691.   4225.  54794.   2386.  34795.\n   2217.   2670.   2962.   9136.   2759.   9279.   6418.   7539.   4138.\n  21095.   3452.  13457.   9957.   6190.   4180.  16891.   3736.   7226.\n  15797.   4595.   5984.   2550.    981.   2628.   7008.   2108.   1276.\n   2113.    997.   9467.  26969.  19466.  21100.  38801.   4265.  48549.\n  21104.   2866.   5387.   1559.   3131.   6526.   1026.  12768.  18133.\n  18261.  44706.   3034.   7732.   1102.    813.  12260.   9242.  17776.\n   3527.   5160.   2430.   8853.  23384.  32009.  10988.   6520.   5866.\n   7946.   3201.  14490.   3354.  10293.   9892.   3999.  15497.   3443.\n   9798.   2127.   8897.   5831.   3924.  17657.   2510.  27072.   1442.\n  14083.   2637.  15855.    928.   9302.  17604.   8359.   1566.   3631.\n   5648.   1697.   9698.   8184.   3334.   5919.  18135.   4329.   3601.\n   8449.   7426.   2770.   8331.   8196.   3060.  17810.   9955.  16342.\n  23786.   5114.   4657.   2268.  37400.  56747.   4343. 119649.  34630.\n  11546.  16305.  15294.   6823.   5532.  14065.   2676.   5287.   3952.\n  38509.  24392.   4403.  15323.   7802.  14854.   3756.   7215.   4810.\n  21240.   2443.  70488.  15380.   8472.   3599.   6659.   4244.   2345.\n   3937.   6191.  41496.   2569.  21143.   1605.   4453.  16281.   1467.\n   4909.  20713.   7544.   2273.   6633.  30859.   2071.   5657.   9357.\n  33598.   4604.  88697.   3796.   7088.  53973.   2266.   7591.  16187.\n  10070.   2186.   3305.   1886.  12854.   1231.  21037.   1552.  11292.\n   3510.   7231.   1088.   1840.   4446.  60488.  27275.  18544.  12917.\n  19773.   6432.  11109.   7015.  13401.   8799.   7274.  17896.   3912.\n   5077.   2254.  11194.   7633.   3587.  11799.   5480.   2159.  12652.\n   3751.   2292.   3178.   1039.   1246.  15037.   2104.  28558.   2944.\n   9800.   4860.   3139.   8990.   1669.   5520.  16175.  18518.  15273.\n  10788.   3260.  17721.  10865.   3770.   3463.  22319.   6555.   2874.\n   5772.    641.   5639.  27232.   1662.  11532.  16100.  10419.   7167.\n   2789.   3151.    597.  14632.  32031.   8991.   8266.  14318.   4174.\n   6069.   1310.   3359.   5555.  20760.   1726.   2684.  22562.   3737.\n  10921.   1820.   6252.   8528.].\nReshape your data either using array.reshape(-1, 1) if your data has a single feature or array.reshape(1, -1) if it contains a single sample."
     ]
    }
   ],
   "source": [
    "# Resample the training data with the BalancedRandomForestClassifier\n",
    "from imblearn.ensemble import BalancedRandomForestClassifier\n",
    "brfc_model = BalancedRandomForestClassifier(n_estimators =100, random_state=1)\n",
    "brfc_model.fit(X_train, y_train)"
   ]
  },
  {
   "cell_type": "code",
   "execution_count": 109,
   "id": "b4d5b8b6",
   "metadata": {},
   "outputs": [
    {
     "ename": "NotFittedError",
     "evalue": "This BalancedRandomForestClassifier instance is not fitted yet. Call 'fit' with appropriate arguments before using this estimator.",
     "output_type": "error",
     "traceback": [
      "\u001b[1;31m---------------------------------------------------------------------------\u001b[0m",
      "\u001b[1;31mNotFittedError\u001b[0m                            Traceback (most recent call last)",
      "\u001b[1;32m~\\AppData\\Local\\Temp\\ipykernel_96428\\148537309.py\u001b[0m in \u001b[0;36m<module>\u001b[1;34m\u001b[0m\n\u001b[0;32m      1\u001b[0m \u001b[1;31m# Calculated the balanced accuracy score\u001b[0m\u001b[1;33m\u001b[0m\u001b[1;33m\u001b[0m\u001b[1;33m\u001b[0m\u001b[0m\n\u001b[0;32m      2\u001b[0m \u001b[1;32mfrom\u001b[0m \u001b[0msklearn\u001b[0m\u001b[1;33m.\u001b[0m\u001b[0mmetrics\u001b[0m \u001b[1;32mimport\u001b[0m \u001b[0mbalanced_accuracy_score\u001b[0m\u001b[1;33m\u001b[0m\u001b[1;33m\u001b[0m\u001b[0m\n\u001b[1;32m----> 3\u001b[1;33m \u001b[0my_pred\u001b[0m \u001b[1;33m=\u001b[0m \u001b[0mbrfc_model\u001b[0m\u001b[1;33m.\u001b[0m\u001b[0mpredict\u001b[0m\u001b[1;33m(\u001b[0m\u001b[0mX_test\u001b[0m\u001b[1;33m)\u001b[0m\u001b[1;33m\u001b[0m\u001b[1;33m\u001b[0m\u001b[0m\n\u001b[0m\u001b[0;32m      4\u001b[0m \u001b[0mbalanced_accuracy_score\u001b[0m\u001b[1;33m(\u001b[0m\u001b[0my_test\u001b[0m\u001b[1;33m,\u001b[0m \u001b[0my_pred\u001b[0m\u001b[1;33m)\u001b[0m\u001b[1;33m\u001b[0m\u001b[1;33m\u001b[0m\u001b[0m\n",
      "\u001b[1;32m~\\anaconda3\\envs\\mlenv\\lib\\site-packages\\sklearn\\ensemble\\_forest.py\u001b[0m in \u001b[0;36mpredict\u001b[1;34m(self, X)\u001b[0m\n\u001b[0;32m    795\u001b[0m             \u001b[0mThe\u001b[0m \u001b[0mpredicted\u001b[0m \u001b[0mclasses\u001b[0m\u001b[1;33m.\u001b[0m\u001b[1;33m\u001b[0m\u001b[1;33m\u001b[0m\u001b[0m\n\u001b[0;32m    796\u001b[0m         \"\"\"\n\u001b[1;32m--> 797\u001b[1;33m         \u001b[0mproba\u001b[0m \u001b[1;33m=\u001b[0m \u001b[0mself\u001b[0m\u001b[1;33m.\u001b[0m\u001b[0mpredict_proba\u001b[0m\u001b[1;33m(\u001b[0m\u001b[0mX\u001b[0m\u001b[1;33m)\u001b[0m\u001b[1;33m\u001b[0m\u001b[1;33m\u001b[0m\u001b[0m\n\u001b[0m\u001b[0;32m    798\u001b[0m \u001b[1;33m\u001b[0m\u001b[0m\n\u001b[0;32m    799\u001b[0m         \u001b[1;32mif\u001b[0m \u001b[0mself\u001b[0m\u001b[1;33m.\u001b[0m\u001b[0mn_outputs_\u001b[0m \u001b[1;33m==\u001b[0m \u001b[1;36m1\u001b[0m\u001b[1;33m:\u001b[0m\u001b[1;33m\u001b[0m\u001b[1;33m\u001b[0m\u001b[0m\n",
      "\u001b[1;32m~\\anaconda3\\envs\\mlenv\\lib\\site-packages\\sklearn\\ensemble\\_forest.py\u001b[0m in \u001b[0;36mpredict_proba\u001b[1;34m(self, X)\u001b[0m\n\u001b[0;32m    835\u001b[0m             \u001b[0mclasses\u001b[0m \u001b[0mcorresponds\u001b[0m \u001b[0mto\u001b[0m \u001b[0mthat\u001b[0m \u001b[1;32min\u001b[0m \u001b[0mthe\u001b[0m \u001b[0mattribute\u001b[0m \u001b[1;33m:\u001b[0m\u001b[0mterm\u001b[0m\u001b[1;33m:\u001b[0m\u001b[0;31m`\u001b[0m\u001b[0mclasses_\u001b[0m\u001b[0;31m`\u001b[0m\u001b[1;33m.\u001b[0m\u001b[1;33m\u001b[0m\u001b[1;33m\u001b[0m\u001b[0m\n\u001b[0;32m    836\u001b[0m         \"\"\"\n\u001b[1;32m--> 837\u001b[1;33m         \u001b[0mcheck_is_fitted\u001b[0m\u001b[1;33m(\u001b[0m\u001b[0mself\u001b[0m\u001b[1;33m)\u001b[0m\u001b[1;33m\u001b[0m\u001b[1;33m\u001b[0m\u001b[0m\n\u001b[0m\u001b[0;32m    838\u001b[0m         \u001b[1;31m# Check data\u001b[0m\u001b[1;33m\u001b[0m\u001b[1;33m\u001b[0m\u001b[1;33m\u001b[0m\u001b[0m\n\u001b[0;32m    839\u001b[0m         \u001b[0mX\u001b[0m \u001b[1;33m=\u001b[0m \u001b[0mself\u001b[0m\u001b[1;33m.\u001b[0m\u001b[0m_validate_X_predict\u001b[0m\u001b[1;33m(\u001b[0m\u001b[0mX\u001b[0m\u001b[1;33m)\u001b[0m\u001b[1;33m\u001b[0m\u001b[1;33m\u001b[0m\u001b[0m\n",
      "\u001b[1;32m~\\anaconda3\\envs\\mlenv\\lib\\site-packages\\sklearn\\utils\\validation.py\u001b[0m in \u001b[0;36mcheck_is_fitted\u001b[1;34m(estimator, attributes, msg, all_or_any)\u001b[0m\n\u001b[0;32m   1206\u001b[0m \u001b[1;33m\u001b[0m\u001b[0m\n\u001b[0;32m   1207\u001b[0m     \u001b[1;32mif\u001b[0m \u001b[1;32mnot\u001b[0m \u001b[0mfitted\u001b[0m\u001b[1;33m:\u001b[0m\u001b[1;33m\u001b[0m\u001b[1;33m\u001b[0m\u001b[0m\n\u001b[1;32m-> 1208\u001b[1;33m         \u001b[1;32mraise\u001b[0m \u001b[0mNotFittedError\u001b[0m\u001b[1;33m(\u001b[0m\u001b[0mmsg\u001b[0m \u001b[1;33m%\u001b[0m \u001b[1;33m{\u001b[0m\u001b[1;34m\"name\"\u001b[0m\u001b[1;33m:\u001b[0m \u001b[0mtype\u001b[0m\u001b[1;33m(\u001b[0m\u001b[0mestimator\u001b[0m\u001b[1;33m)\u001b[0m\u001b[1;33m.\u001b[0m\u001b[0m__name__\u001b[0m\u001b[1;33m}\u001b[0m\u001b[1;33m)\u001b[0m\u001b[1;33m\u001b[0m\u001b[1;33m\u001b[0m\u001b[0m\n\u001b[0m\u001b[0;32m   1209\u001b[0m \u001b[1;33m\u001b[0m\u001b[0m\n\u001b[0;32m   1210\u001b[0m \u001b[1;33m\u001b[0m\u001b[0m\n",
      "\u001b[1;31mNotFittedError\u001b[0m: This BalancedRandomForestClassifier instance is not fitted yet. Call 'fit' with appropriate arguments before using this estimator."
     ]
    }
   ],
   "source": [
    "# Calculated the balanced accuracy score\n",
    "from sklearn.metrics import balanced_accuracy_score\n",
    "y_pred = brfc_model.predict(X_test)\n",
    "balanced_accuracy_score(y_test, y_pred)"
   ]
  },
  {
   "cell_type": "code",
   "execution_count": 110,
   "id": "706f5094",
   "metadata": {},
   "outputs": [
    {
     "ename": "NameError",
     "evalue": "name 'y_pred' is not defined",
     "output_type": "error",
     "traceback": [
      "\u001b[1;31m---------------------------------------------------------------------------\u001b[0m",
      "\u001b[1;31mNameError\u001b[0m                                 Traceback (most recent call last)",
      "\u001b[1;32m~\\AppData\\Local\\Temp\\ipykernel_96428\\1461509411.py\u001b[0m in \u001b[0;36m<module>\u001b[1;34m\u001b[0m\n\u001b[0;32m      1\u001b[0m \u001b[1;31m# Display the confusion matrix\u001b[0m\u001b[1;33m\u001b[0m\u001b[1;33m\u001b[0m\u001b[1;33m\u001b[0m\u001b[0m\n\u001b[0;32m      2\u001b[0m \u001b[1;32mfrom\u001b[0m \u001b[0msklearn\u001b[0m\u001b[1;33m.\u001b[0m\u001b[0mmetrics\u001b[0m \u001b[1;32mimport\u001b[0m \u001b[0mconfusion_matrix\u001b[0m\u001b[1;33m\u001b[0m\u001b[1;33m\u001b[0m\u001b[0m\n\u001b[1;32m----> 3\u001b[1;33m \u001b[0mconfusion_matrix\u001b[0m\u001b[1;33m(\u001b[0m\u001b[0my_test\u001b[0m\u001b[1;33m,\u001b[0m \u001b[0my_pred\u001b[0m\u001b[1;33m)\u001b[0m\u001b[1;33m\u001b[0m\u001b[1;33m\u001b[0m\u001b[0m\n\u001b[0m",
      "\u001b[1;31mNameError\u001b[0m: name 'y_pred' is not defined"
     ]
    }
   ],
   "source": [
    "# Display the confusion matrix\n",
    "from sklearn.metrics import confusion_matrix\n",
    "confusion_matrix(y_test, y_pred)"
   ]
  },
  {
   "cell_type": "code",
   "execution_count": null,
   "id": "7f968f38",
   "metadata": {},
   "outputs": [],
   "source": [
    "# Print the imbalanced classification report\n",
    "from imblearn.metrics import classification_report_imbalanced\n",
    "print(classification_report_imbalanced(y_test, y_pred))"
   ]
  },
  {
   "cell_type": "code",
   "execution_count": null,
   "id": "cf30fc8a",
   "metadata": {},
   "outputs": [],
   "source": []
  }
 ],
 "metadata": {
  "kernelspec": {
   "display_name": "mlenv",
   "language": "python",
   "name": "mlenv"
  },
  "language_info": {
   "codemirror_mode": {
    "name": "ipython",
    "version": 3
   },
   "file_extension": ".py",
   "mimetype": "text/x-python",
   "name": "python",
   "nbconvert_exporter": "python",
   "pygments_lexer": "ipython3",
   "version": "3.7.13"
  }
 },
 "nbformat": 4,
 "nbformat_minor": 5
}
